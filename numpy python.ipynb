{
 "cells": [
  {
   "cell_type": "code",
   "execution_count": 3,
   "id": "1cfab22b",
   "metadata": {},
   "outputs": [],
   "source": [
    "import numpy as np"
   ]
  },
  {
   "cell_type": "markdown",
   "id": "265cb050",
   "metadata": {},
   "source": [
    "# numpy functions"
   ]
  },
  {
   "cell_type": "code",
   "execution_count": 10,
   "id": "b900309b",
   "metadata": {},
   "outputs": [
    {
     "ename": "TypeError",
     "evalue": "_amin_dispatcher() missing 1 required positional argument: 'a'",
     "output_type": "error",
     "traceback": [
      "\u001b[1;31m---------------------------------------------------------------------------\u001b[0m",
      "\u001b[1;31mTypeError\u001b[0m                                 Traceback (most recent call last)",
      "Input \u001b[1;32mIn [10]\u001b[0m, in \u001b[0;36m<cell line: 1>\u001b[1;34m()\u001b[0m\n\u001b[1;32m----> 1\u001b[0m \u001b[43mnp\u001b[49m\u001b[38;5;241;43m.\u001b[39;49m\u001b[43mamin\u001b[49m\u001b[43m(\u001b[49m\u001b[43m)\u001b[49m   \u001b[38;5;66;03m# minimum value of element along a specified axis.\u001b[39;00m\n\u001b[0;32m      2\u001b[0m np\u001b[38;5;241m.\u001b[39mamax()   \u001b[38;5;66;03m# maximum value of element along a specified axis.\u001b[39;00m\n\u001b[0;32m      3\u001b[0m np\u001b[38;5;241m.\u001b[39mmean()   \u001b[38;5;66;03m# find the mean\u001b[39;00m\n",
      "File \u001b[1;32m<__array_function__ internals>:4\u001b[0m, in \u001b[0;36mamin\u001b[1;34m(*args, **kwargs)\u001b[0m\n",
      "\u001b[1;31mTypeError\u001b[0m: _amin_dispatcher() missing 1 required positional argument: 'a'"
     ]
    }
   ],
   "source": [
    " np.amin()   # minimum value of element along a specified axis.\n",
    " np.amax()   # maximum value of element along a specified axis.\n",
    " np.mean()   # find the mean\n",
    " np.median()  # find median value of data set.\n",
    " np.ptp()    # range of value along an axis  //Range = max value – min value.\n",
    " np.std()     # find standard distribution \n",
    " np.var()      #find veriance\n",
    "np.average()    #\n",
    "np.percentile()"
   ]
  },
  {
   "cell_type": "code",
   "execution_count": 11,
   "id": "5b0e046d",
   "metadata": {},
   "outputs": [],
   "source": [
    "arr = np.array([[1,2,3,4],[5,6,7,8]])   # create array from list"
   ]
  },
  {
   "cell_type": "code",
   "execution_count": 12,
   "id": "b014d8b7",
   "metadata": {},
   "outputs": [
    {
     "name": "stdout",
     "output_type": "stream",
     "text": [
      "[[1 2 3 4]\n",
      " [5 6 7 8]]\n"
     ]
    }
   ],
   "source": [
    "print(arr)"
   ]
  },
  {
   "cell_type": "code",
   "execution_count": 13,
   "id": "8de2db79",
   "metadata": {
    "scrolled": true
   },
   "outputs": [
    {
     "data": {
      "text/plain": [
       "array([[1, 2, 3, 4],\n",
       "       [5, 6, 7, 8]])"
      ]
     },
     "execution_count": 13,
     "metadata": {},
     "output_type": "execute_result"
    }
   ],
   "source": [
    "arr"
   ]
  },
  {
   "cell_type": "code",
   "execution_count": 14,
   "id": "b15a186e",
   "metadata": {},
   "outputs": [
    {
     "name": "stdout",
     "output_type": "stream",
     "text": [
      "2\n"
     ]
    }
   ],
   "source": [
    "print(arr.ndim)    #dimantion of array"
   ]
  },
  {
   "cell_type": "code",
   "execution_count": 15,
   "id": "952b4905",
   "metadata": {},
   "outputs": [
    {
     "name": "stdout",
     "output_type": "stream",
     "text": [
      "(2, 4)\n"
     ]
    }
   ],
   "source": [
    "print(arr.shape)    #SHAPE OF ARRAY"
   ]
  },
  {
   "cell_type": "code",
   "execution_count": 16,
   "id": "541d511a",
   "metadata": {},
   "outputs": [
    {
     "name": "stdout",
     "output_type": "stream",
     "text": [
      "<memory at 0x0000022B0646C380>\n"
     ]
    }
   ],
   "source": [
    "print(arr.data)      #memory location of array"
   ]
  },
  {
   "cell_type": "code",
   "execution_count": 17,
   "id": "f9e652ee",
   "metadata": {},
   "outputs": [
    {
     "name": "stdout",
     "output_type": "stream",
     "text": [
      "<class 'numpy.ndarray'>\n"
     ]
    }
   ],
   "source": [
    "print(type(arr))     #type of array"
   ]
  },
  {
   "cell_type": "code",
   "execution_count": 18,
   "id": "bd7cac9e",
   "metadata": {},
   "outputs": [
    {
     "data": {
      "text/plain": [
       "2385839221328"
      ]
     },
     "execution_count": 18,
     "metadata": {},
     "output_type": "execute_result"
    }
   ],
   "source": [
    "a =10\n",
    "id(a)       #memory location of variable"
   ]
  },
  {
   "cell_type": "code",
   "execution_count": 19,
   "id": "57318870",
   "metadata": {},
   "outputs": [],
   "source": [
    "# in 2-D Array :\n",
    "#axis = 0 (cloumn), =1(row)"
   ]
  },
  {
   "cell_type": "code",
   "execution_count": 20,
   "id": "2e440cbf",
   "metadata": {},
   "outputs": [
    {
     "name": "stdout",
     "output_type": "stream",
     "text": [
      "[[20 30 60]\n",
      " [25 26 27]\n",
      " [56 43 56]] \n",
      "\n"
     ]
    }
   ],
   "source": [
    "b = np.array([[20,30,60],[25,26,27],[56,43,56]])\n",
    "print(b,\"\\n\")"
   ]
  },
  {
   "cell_type": "code",
   "execution_count": 21,
   "id": "6ed8b5ac",
   "metadata": {},
   "outputs": [
    {
     "data": {
      "text/plain": [
       "dtype('int32')"
      ]
     },
     "execution_count": 21,
     "metadata": {},
     "output_type": "execute_result"
    }
   ],
   "source": [
    "b.dtype     #datatype of array "
   ]
  },
  {
   "cell_type": "code",
   "execution_count": 22,
   "id": "09369b93",
   "metadata": {},
   "outputs": [
    {
     "data": {
      "text/plain": [
       "4"
      ]
     },
     "execution_count": 22,
     "metadata": {},
     "output_type": "execute_result"
    }
   ],
   "source": [
    "b.itemsize   #size of element (int = 4 byte)"
   ]
  },
  {
   "cell_type": "code",
   "execution_count": 23,
   "id": "933ae558",
   "metadata": {},
   "outputs": [
    {
     "data": {
      "text/plain": [
       "9"
      ]
     },
     "execution_count": 23,
     "metadata": {},
     "output_type": "execute_result"
    }
   ],
   "source": [
    "b.size   #number of element in array"
   ]
  },
  {
   "cell_type": "code",
   "execution_count": 24,
   "id": "d2276de4",
   "metadata": {},
   "outputs": [
    {
     "data": {
      "text/plain": [
       "(3, 3)"
      ]
     },
     "execution_count": 24,
     "metadata": {},
     "output_type": "execute_result"
    }
   ],
   "source": [
    "b.shape"
   ]
  },
  {
   "cell_type": "code",
   "execution_count": 25,
   "id": "5986fcaa",
   "metadata": {},
   "outputs": [],
   "source": [
    "b = np.array([[20,21,22],[25,26,27],[56,43,56]],dtype = np.float64)   #convert element int into float"
   ]
  },
  {
   "cell_type": "code",
   "execution_count": 26,
   "id": "0c4f2c6e",
   "metadata": {},
   "outputs": [
    {
     "name": "stdout",
     "output_type": "stream",
     "text": [
      "[[20. 21. 22.]\n",
      " [25. 26. 27.]\n",
      " [56. 43. 56.]] \n",
      "\n",
      "float64 \n",
      "\n",
      "8 \n",
      "\n"
     ]
    }
   ],
   "source": [
    "print(b,\"\\n\")\n",
    "print(b.dtype,\"\\n\")\n",
    "print(b.itemsize,\"\\n\")"
   ]
  },
  {
   "cell_type": "code",
   "execution_count": 27,
   "id": "e4e992bf",
   "metadata": {},
   "outputs": [
    {
     "name": "stdout",
     "output_type": "stream",
     "text": [
      "[[20.+0.j 21.+0.j 22.+0.j]\n",
      " [25.+0.j 26.+0.j 27.+0.j]\n",
      " [30.+0.j 31.+0.j 32.+0.j]] \n",
      "\n",
      "complex64 \n",
      "\n",
      "8 \n",
      "\n",
      "[[20.+0.j 21.+0.j 22.+0.j]\n",
      " [25.+0.j 26.+0.j 27.+0.j]\n",
      " [30.+0.j 31.+0.j 32.+0.j]] \n",
      "\n",
      "complex128 \n",
      "\n",
      "16 \n",
      "\n"
     ]
    }
   ],
   "source": [
    "z = np.array([[20,21,22],[25,26,27],[30,31,32]],dtype = np.complex64)\n",
    "t = np.array([[20,21,22],[25,26,27],[30,31,32]],dtype = np.complex128)\n",
    "print(z,\"\\n\")\n",
    "print(z.dtype,\"\\n\")\n",
    "print(z.itemsize,\"\\n\")\n",
    "print(t,\"\\n\")\n",
    "print(t.dtype,\"\\n\")\n",
    "print(t.itemsize,\"\\n\")"
   ]
  },
  {
   "cell_type": "code",
   "execution_count": 28,
   "id": "afea433b",
   "metadata": {},
   "outputs": [
    {
     "name": "stdout",
     "output_type": "stream",
     "text": [
      "[[20. 21. 22.]\n",
      " [25. 26. 27.]\n",
      " [56. 43. 56.]] \n",
      "\n",
      "float64 \n",
      "\n",
      "8 \n",
      "\n"
     ]
    }
   ],
   "source": [
    "v = np.array(b,dtype = np.double)\n",
    "print(v,\"\\n\")\n",
    "print(v.dtype,\"\\n\")\n",
    "print(v.itemsize,\"\\n\")"
   ]
  },
  {
   "cell_type": "code",
   "execution_count": 29,
   "id": "ffb447df",
   "metadata": {},
   "outputs": [
    {
     "name": "stdout",
     "output_type": "stream",
     "text": [
      "[[20 21 22]\n",
      " [25 26 27]\n",
      " [56 43 56]] \n",
      "\n",
      "int32 \n",
      "\n",
      "4 \n",
      "\n"
     ]
    }
   ],
   "source": [
    "n = np.array(b,dtype = np.int32)\n",
    "print(n,\"\\n\")\n",
    "print(n.dtype,\"\\n\")\n",
    "print(n.itemsize,\"\\n\")"
   ]
  },
  {
   "cell_type": "code",
   "execution_count": 30,
   "id": "a7a7e204",
   "metadata": {},
   "outputs": [
    {
     "name": "stdout",
     "output_type": "stream",
     "text": [
      "296\n",
      "[101  90 105]\n",
      "[ 63  78 155]\n"
     ]
    }
   ],
   "source": [
    "print(np.sum(n))  #sum of all elements\n",
    "print(np.sum(n,axis = 0))  #sum of elements in colums\n",
    "print(np.sum(n,axis = 1))  #sum of elements in rows  0"
   ]
  },
  {
   "cell_type": "code",
   "execution_count": 31,
   "id": "66e9bdf4",
   "metadata": {},
   "outputs": [
    {
     "name": "stdout",
     "output_type": "stream",
     "text": [
      "20\n",
      "[20 21 22]\n",
      "[20 25 43]\n"
     ]
    }
   ],
   "source": [
    "print(np.amin(n))     # find minimum value in entire array\n",
    "print(np.amin(n, axis = 0))   # minimum value in column vise of array\n",
    "print(np.amin(n, axis = 1))     # minimum value in row vise of array"
   ]
  },
  {
   "cell_type": "code",
   "execution_count": 32,
   "id": "3b070aa9",
   "metadata": {},
   "outputs": [
    {
     "name": "stdout",
     "output_type": "stream",
     "text": [
      "56\n",
      "[56 43 56]\n",
      "[22 27 56]\n",
      "<class 'numpy.ndarray'>\n"
     ]
    }
   ],
   "source": [
    "print(np.amax(n))        # find maximum value in entire array\n",
    "print(np.amax(n, axis = 0))   # maximum value in column vise of array\n",
    "print(np.amax(n, axis = 1))     # maximum value in row vise of array\n",
    "print(type(n))"
   ]
  },
  {
   "cell_type": "code",
   "execution_count": 33,
   "id": "ec72c3f4",
   "metadata": {},
   "outputs": [
    {
     "name": "stdout",
     "output_type": "stream",
     "text": [
      "32.888888888888886\n",
      "[33.66666667 30.         35.        ]\n",
      "[21.         26.         51.66666667]\n",
      "<class 'numpy.ndarray'>\n"
     ]
    }
   ],
   "source": [
    "print(np.mean(n))     # find mean value in entire array        #mean = sum of all element in array /  number of element in array\n",
    "print(np.mean(n,axis = 0))   # mean value in column vise of array\n",
    "print(np.mean(n,axis = 1))    # mean value in row vise of array\n",
    "print(type(n))"
   ]
  },
  {
   "cell_type": "code",
   "execution_count": 34,
   "id": "d193fe54",
   "metadata": {},
   "outputs": [
    {
     "name": "stdout",
     "output_type": "stream",
     "text": [
      "26.0\n",
      "[25. 26. 27.]\n",
      "[21. 26. 56.]\n"
     ]
    }
   ],
   "source": [
    "#median                       # first we write element in sorted from in line. ex. 20 21 22 25 26 27 43 56 56\n",
    "print(np.median(n))          #median = arr[n/2] (if n number of arry is even)  = (arr[n-1/2] + arr[n+1/2])/2 (if n number of arry is odd)\n",
    "print(np.median(n,axis = 0))\n",
    "print(np.median(n,axis = 1))"
   ]
  },
  {
   "cell_type": "code",
   "execution_count": 35,
   "id": "6ae8f350",
   "metadata": {},
   "outputs": [
    {
     "name": "stdout",
     "output_type": "stream",
     "text": [
      "13.907986869616757\n",
      "[15.92342788  9.41629793 14.98888477]\n",
      "[0.81649658 0.81649658 6.12825877]\n"
     ]
    }
   ],
   "source": [
    "#stadrand deviation              # std = sqr(var)\n",
    "print(np.std(n))\n",
    "print(np.std(n,axis =0))\n",
    "print(np.std(n,axis =1))"
   ]
  },
  {
   "cell_type": "code",
   "execution_count": 36,
   "id": "df8bcfb2",
   "metadata": {},
   "outputs": [
    {
     "name": "stdout",
     "output_type": "stream",
     "text": [
      "193.4320987654321\n",
      "[253.55555556  88.66666667 224.66666667]\n",
      "[ 0.66666667  0.66666667 37.55555556]\n"
     ]
    }
   ],
   "source": [
    "#varience                           # varience = ((element[0]-mean)^2 + (element[1]-mean)^2 +...+(element[n]-mean)^2) / no. of element in array\n",
    "print(np.var(n))                  \n",
    "print(np.var(n,axis =0))\n",
    "print(np.var(n,axis =1))"
   ]
  },
  {
   "cell_type": "code",
   "execution_count": 37,
   "id": "b5ba55bc",
   "metadata": {},
   "outputs": [
    {
     "name": "stdout",
     "output_type": "stream",
     "text": [
      "32.888888888888886\n"
     ]
    }
   ],
   "source": [
    "#average\n",
    "print(np.average(n))           #  average = sum of all element in array /  number of element in array"
   ]
  },
  {
   "cell_type": "code",
   "execution_count": 38,
   "id": "6e2d71ca",
   "metadata": {},
   "outputs": [
    {
     "name": "stdout",
     "output_type": "stream",
     "text": [
      "[2 3 4]\n"
     ]
    }
   ],
   "source": [
    "r = np.array([2,3,4])\n",
    "print(r)"
   ]
  },
  {
   "cell_type": "code",
   "execution_count": 39,
   "id": "6743652d",
   "metadata": {},
   "outputs": [
    {
     "name": "stdout",
     "output_type": "stream",
     "text": [
      "[4 5 6]\n",
      "3.1333333333333333\n"
     ]
    }
   ],
   "source": [
    "#weighted average                        # weighted average = weighted value[0]*array value[0] + weighted value[1]*array value[1] +...+ weighted value[n]*array value[n] /  sum of all weights\n",
    "w = np.array([4,5,6])                        # ex. weighted average = 2*4 + 3*5 + 4*6 /  4+5+6  = 3.13\n",
    "print(w)\n",
    "print(np.average(r,weights=w))"
   ]
  },
  {
   "cell_type": "code",
   "execution_count": 44,
   "id": "219bb544",
   "metadata": {},
   "outputs": [
    {
     "name": "stdout",
     "output_type": "stream",
     "text": [
      "[[20 21 22]\n",
      " [25 26 27]\n",
      " [56 43 56]] \n",
      "\n",
      "[4 5 6] \n",
      "\n",
      "[36.06666667 31.46666667 37.26666667]\n"
     ]
    }
   ],
   "source": [
    "#weighted average                        # weighted average = weighted value[0]*array value[0] + weighted value[1]*array value[1] +...+ weighted value[n]*array value[n] /  sum of all weights\n",
    "n = np.array(b,dtype = np.int32)\n",
    "print(n,\"\\n\")\n",
    "print(w,\"\\n\")\n",
    "print(np.average(n, weights=w, axis = 0))   # ex. weighted average = ( 20*4 + 25*5 + 56*6 / 4+5+6  = 36.0666 , 21*4 + 26*5 + 43*6 / 4+5+6 , 22*4 + 27*5 + 56*6 / 4+5+6 )"
   ]
  },
  {
   "cell_type": "code",
   "execution_count": 46,
   "id": "24e92a64",
   "metadata": {},
   "outputs": [
    {
     "name": "stdout",
     "output_type": "stream",
     "text": [
      "[[20 21 22]\n",
      " [25 26 27]\n",
      " [56 43 56]] \n",
      "\n",
      "[[20. 21. 22.]\n",
      " [25. 26. 27.]\n",
      " [56. 43. 56.]] \n",
      "\n",
      "[41.1980198  32.95555556 41.41904762]\n"
     ]
    }
   ],
   "source": [
    "n = np.array(b,dtype = np.int32)\n",
    "print(n,\"\\n\")\n",
    "v = np.array(b,dtype = np.double)\n",
    "print(v,\"\\n\")\n",
    "print(np.average(n, weights=v)) \n",
    "print(np.average(n, weights=v,axis = 0)) "
   ]
  },
  {
   "cell_type": "code",
   "execution_count": 53,
   "id": "f83a77bf",
   "metadata": {},
   "outputs": [
    {
     "name": "stdout",
     "output_type": "stream",
     "text": [
      "[2 3 4] \n",
      "\n",
      "[[20 21 22]\n",
      " [25 26 27]\n",
      " [56 43 56]] \n",
      "\n",
      "3.2 \n",
      "\n",
      "2.12 \n",
      "\n",
      "26.8 \n",
      "\n",
      "[21. 22. 23.] \n",
      "\n",
      "[20.8 25.8 53.4] \n",
      "\n",
      "[20.12 25.12 44.56]\n"
     ]
    }
   ],
   "source": [
    "#percentile                            # np.percentile(arr,percentie,row or column)\n",
    "print(r,\"\\n\")                        # first we write sorted array in line then position = persentile*(n+1) / 100 where n=no. of elements\n",
    "print(n,\"\\n\")                                # percentile = arr[position]\n",
    "print(np.percentile(r,60),\"\\n\")        #ex. 60*(3+1) / 100 = 2.4  = arr[2.4]\n",
    "print(np.percentile(r,6),\"\\n\")\n",
    "print(np.percentile(n,60),\"\\n\")\n",
    "print(np.percentile(n,10,0),\"\\n\")\n",
    "print(np.percentile(n,40,1),\"\\n\")\n",
    "print(np.percentile(n,6,1))"
   ]
  },
  {
   "cell_type": "code",
   "execution_count": 56,
   "id": "0899e811",
   "metadata": {},
   "outputs": [
    {
     "name": "stdout",
     "output_type": "stream",
     "text": [
      "[2 3 4] \n",
      "\n",
      "[[20 21 22]\n",
      " [25 26 27]\n",
      " [56 43 56]] \n",
      "\n",
      "2 \n",
      "\n",
      "[36 22 34] \n",
      "\n",
      "[ 2  2 13]\n"
     ]
    }
   ],
   "source": [
    "#range                      # np.ptp = arr[end position] - arr[start position] \n",
    "print(r,\"\\n\")\n",
    "print(n,\"\\n\")\n",
    "print(np.ptp(r),\"\\n\")\n",
    "print(np.ptp(n,0),\"\\n\")\n",
    "print(np.ptp(n,1))"
   ]
  },
  {
   "cell_type": "code",
   "execution_count": 48,
   "id": "a1fdff3c",
   "metadata": {},
   "outputs": [
    {
     "name": "stdout",
     "output_type": "stream",
     "text": [
      "[[1 2 3 4]\n",
      " [5 6 7 8]] \n",
      "\n",
      "[[1 2]\n",
      " [3 4]\n",
      " [5 6]\n",
      " [7 8]] \n",
      "\n",
      "4.5\n"
     ]
    }
   ],
   "source": [
    "#reshape of array\n",
    "u = np.array([[1,2,3,4],[5,6,7,8]])\n",
    "print(u,\"\\n\")\n",
    "print(u.reshape(4,2),\"\\n\")\n",
    "print(np.median(u))  "
   ]
  },
  {
   "cell_type": "code",
   "execution_count": 58,
   "id": "51223fe7",
   "metadata": {},
   "outputs": [
    {
     "name": "stdout",
     "output_type": "stream",
     "text": [
      "[[20 21 22]\n",
      " [25 26 27]\n",
      " [56 43 56]] \n",
      "\n",
      "21 \n",
      "\n",
      "43 \n",
      "\n",
      "56 \n",
      "\n"
     ]
    }
   ],
   "source": [
    "#slicing in array\n",
    "print(n,\"\\n\")\n",
    "\n",
    "print(n[0,1],\"\\n\")\n",
    "print(n[2,1],\"\\n\")\n",
    "print(n[2,2],\"\\n\")"
   ]
  },
  {
   "cell_type": "markdown",
   "id": "d6824948",
   "metadata": {},
   "source": [
    "# Stacking\n"
   ]
  },
  {
   "cell_type": "code",
   "execution_count": 11,
   "id": "01da6345",
   "metadata": {},
   "outputs": [
    {
     "name": "stdout",
     "output_type": "stream",
     "text": [
      "[[ 0  1  2  3]\n",
      " [ 4  5  6  7]\n",
      " [ 8  9 10 11]\n",
      " [12 13 14 15]] \n",
      "\n",
      "[[ 0  1  2  3]\n",
      " [ 4  5  6  7]\n",
      " [ 8  9 10 11]] \n",
      "\n",
      "[[ 0  1  2]\n",
      " [ 3  4  5]\n",
      " [ 6  7  8]\n",
      " [ 9 10 11]]\n"
     ]
    }
   ],
   "source": [
    "d = np.arange(16).reshape(4,4)\n",
    "print(d,\"\\n\")\n",
    "\n",
    "f = np.arange(12).reshape(3,4)\n",
    "print(f,\"\\n\")\n",
    "\n",
    "h = np.arange(12).reshape(4,3)\n",
    "print(h)"
   ]
  },
  {
   "cell_type": "code",
   "execution_count": 6,
   "id": "48bf8436",
   "metadata": {},
   "outputs": [
    {
     "name": "stdout",
     "output_type": "stream",
     "text": [
      "[[10 11 12 13 14]\n",
      " [15 16 17 18 19]]\n"
     ]
    }
   ],
   "source": [
    "f = np.arange(10,20).reshape(2,5)\n",
    "print(f)"
   ]
  },
  {
   "cell_type": "code",
   "execution_count": 10,
   "id": "8f951ec3",
   "metadata": {},
   "outputs": [
    {
     "name": "stdout",
     "output_type": "stream",
     "text": [
      "[[ 0  1  2  3]\n",
      " [ 4  5  6  7]\n",
      " [ 8  9 10 11]\n",
      " [12 13 14 15]\n",
      " [ 0  1  2  3]\n",
      " [ 4  5  6  7]\n",
      " [ 8  9 10 11]]\n"
     ]
    }
   ],
   "source": [
    "print(np.vstack((d,f)))"
   ]
  },
  {
   "cell_type": "code",
   "execution_count": 12,
   "id": "82bbb376",
   "metadata": {},
   "outputs": [
    {
     "name": "stdout",
     "output_type": "stream",
     "text": [
      "[[ 0  1  2  3  0  1  2]\n",
      " [ 4  5  6  7  3  4  5]\n",
      " [ 8  9 10 11  6  7  8]\n",
      " [12 13 14 15  9 10 11]]\n"
     ]
    }
   ],
   "source": [
    "print(np.hstack((d,h)))"
   ]
  },
  {
   "cell_type": "code",
   "execution_count": 16,
   "id": "9552b5f5",
   "metadata": {},
   "outputs": [
    {
     "name": "stdout",
     "output_type": "stream",
     "text": [
      "[ 8  9 10 11 12 13 93] \n",
      "\n",
      "[ 33   8  63  66  14  94 176] \n",
      "\n",
      "[ 15  20  25  30  35  40 440] \n",
      "\n",
      "[ 0.6  0.8  1.   1.2  1.4  1.6 17.6] \n",
      "\n",
      "[ 0  0  1  1  1  1 17]\n"
     ]
    }
   ],
   "source": [
    "x = np.array([3,4,5,6,7,8,88])\n",
    "y = np.array([5])\n",
    "z = np.array([30,4,58,60,7,86,88])\n",
    "print(x+y,\"\\n\")\n",
    "print(x+z,\"\\n\")\n",
    "print(x*y,\"\\n\")\n",
    "print(x/y,\"\\n\")\n",
    "print(x//y)"
   ]
  },
  {
   "cell_type": "code",
   "execution_count": 17,
   "id": "4bdc64a9",
   "metadata": {},
   "outputs": [
    {
     "name": "stdout",
     "output_type": "stream",
     "text": [
      "[[0. 0. 0.]\n",
      " [0. 0. 0.]\n",
      " [0. 0. 0.]\n",
      " [0. 0. 0.]] \n",
      "\n",
      "[[1. 1. 1. 1.]\n",
      " [1. 1. 1. 1.]\n",
      " [1. 1. 1. 1.]]\n"
     ]
    }
   ],
   "source": [
    "print(np.zeros((4,3)),\"\\n\")\n",
    "print(np.ones((3,4)))"
   ]
  },
  {
   "cell_type": "code",
   "execution_count": 6,
   "id": "eeb56a8a",
   "metadata": {},
   "outputs": [
    {
     "name": "stdout",
     "output_type": "stream",
     "text": [
      "[[1 2 3]\n",
      " [4 3 6]]\n"
     ]
    }
   ],
   "source": [
    "l1 = [[1,2,3],[4,3,6]]\n",
    "vector1 = np.array(l1)\n",
    "print(vector1)"
   ]
  },
  {
   "cell_type": "markdown",
   "id": "c65d5fc2",
   "metadata": {},
   "source": [
    "# matrixs"
   ]
  },
  {
   "cell_type": "code",
   "execution_count": 9,
   "id": "3fdb220e",
   "metadata": {},
   "outputs": [
    {
     "name": "stdout",
     "output_type": "stream",
     "text": [
      "[[1 2]\n",
      " [3 4]]\n"
     ]
    }
   ],
   "source": [
    "m1 = np.matrix(\"1 2;3 4\")\n",
    "print(m1)"
   ]
  },
  {
   "cell_type": "code",
   "execution_count": 27,
   "id": "dee5029e",
   "metadata": {},
   "outputs": [
    {
     "name": "stdout",
     "output_type": "stream",
     "text": [
      "[[1 2 3]\n",
      " [3 4 8]]\n"
     ]
    }
   ],
   "source": [
    "m2 = np.matrix([[1 ,2 ,3],[3, 4,8]])\n",
    "print(m2)"
   ]
  },
  {
   "cell_type": "code",
   "execution_count": 28,
   "id": "b590d8d6",
   "metadata": {},
   "outputs": [
    {
     "name": "stdout",
     "output_type": "stream",
     "text": [
      "[[10 20 30]\n",
      " [30 40 80]]\n"
     ]
    }
   ],
   "source": [
    "a = 10\n",
    "print(np.dot(m2,a))"
   ]
  },
  {
   "cell_type": "code",
   "execution_count": 32,
   "id": "1fc74078",
   "metadata": {},
   "outputs": [
    {
     "name": "stdout",
     "output_type": "stream",
     "text": [
      "[[4 5]\n",
      " [6 7]\n",
      " [9 8]] \n",
      "\n",
      "[[ 43  43]\n",
      " [108 107]] \n",
      "\n",
      "[[19 28 52]\n",
      " [27 40 74]\n",
      " [33 50 91]] \n",
      "\n"
     ]
    }
   ],
   "source": [
    "m3 = np.matrix(\"4 5 ;6 7 ;9 8\")\n",
    "print(m3,\"\\n\")\n",
    "print(np.dot(m2,m3),\"\\n\")\n",
    "print(np.dot(m3,m2),\"\\n\")\n"
   ]
  },
  {
   "cell_type": "code",
   "execution_count": null,
   "id": "e590bc55",
   "metadata": {},
   "outputs": [],
   "source": []
  }
 ],
 "metadata": {
  "kernelspec": {
   "display_name": "Python 3 (ipykernel)",
   "language": "python",
   "name": "python3"
  },
  "language_info": {
   "codemirror_mode": {
    "name": "ipython",
    "version": 3
   },
   "file_extension": ".py",
   "mimetype": "text/x-python",
   "name": "python",
   "nbconvert_exporter": "python",
   "pygments_lexer": "ipython3",
   "version": "3.9.12"
  }
 },
 "nbformat": 4,
 "nbformat_minor": 5
}
